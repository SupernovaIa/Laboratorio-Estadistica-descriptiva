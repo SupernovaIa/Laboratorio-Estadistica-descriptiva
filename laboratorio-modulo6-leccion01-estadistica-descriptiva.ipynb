{
 "cells": [
  {
   "cell_type": "markdown",
   "metadata": {},
   "source": [
    "<div style=\"text-align: center;\">\n",
    "  <img src=\"https://github.com/Hack-io-Data/Imagenes/blob/main/01-LogosHackio/logo_naranja@4x.png?raw=true\" alt=\"esquema\" />\n",
    "</div>\n",
    "\n",
    "\n",
    "# Laboratorio Estadistica Descriptiva\n",
    "\n",
    "⚠️ Siempre que puedas usa graficas para apoyar tu interpretacion\n"
   ]
  },
  {
   "cell_type": "code",
   "execution_count": 1,
   "metadata": {},
   "outputs": [],
   "source": [
    "# importamos las librerías que necesitamos\n",
    "\n",
    "# Tratamiento de datos\n",
    "# -----------------------------------------------------------------------\n",
    "import numpy as np  \n",
    "import pandas as pd \n",
    "\n",
    "\n",
    "# Visualización\n",
    "# ------------------------------------------------------------------------------\n",
    "import matplotlib.pyplot as plt\n",
    "import seaborn as sns\n",
    "\n",
    "\n",
    "# librerias para estadisticas \n",
    "# ------------------------------------------------------------------------------\n",
    "\n",
    "import statistics as st \n",
    "from scipy import stats  \n",
    "from scipy.stats import skew,kurtosis # libreria para asimetria y curtosis \n"
   ]
  },
  {
   "cell_type": "markdown",
   "metadata": {},
   "source": [
    "#### Ejercicio 1: \n",
    "\n",
    "1.  Dados los siguientes datos: [15, 21, 25, 32, 35, 45, 50, 50, 55, 60]. Crea una funcion que calcule la media, mediana y moda.\n"
   ]
  },
  {
   "cell_type": "code",
   "execution_count": 19,
   "metadata": {},
   "outputs": [],
   "source": [
    "datos = [15, 21, 25, 32, 35, 45, 50, 50, 55, 60]\n",
    "\n",
    "datos = pd.Series(datos)\n",
    "\n",
    "def funcion1(data):\n",
    "\n",
    "    media = data.mean()\n",
    "    mediana = data.median()\n",
    "    moda = data.mode()\n",
    "\n",
    "    print(f\"La media es {media}, la mediana {mediana} y la moda {list(moda)}\")"
   ]
  },
  {
   "cell_type": "code",
   "execution_count": 20,
   "metadata": {},
   "outputs": [
    {
     "name": "stdout",
     "output_type": "stream",
     "text": [
      "La media es 38.8, la mediana 40.0 y la moda [50]\n"
     ]
    }
   ],
   "source": [
    "funcion1(datos)"
   ]
  },
  {
   "cell_type": "markdown",
   "metadata": {},
   "source": [
    "2.\tInterpretación de la media: ¿Qué sucede si un valor extremo, como 100, se agrega al conjunto de datos anterior? ¿Cómo cambia la media? Explica por qué sucede esto."
   ]
  },
  {
   "cell_type": "code",
   "execution_count": null,
   "metadata": {},
   "outputs": [
    {
     "name": "stdout",
     "output_type": "stream",
     "text": [
      "La media es 44.36363636363637, la mediana 45.0 y la moda [50]\n"
     ]
    }
   ],
   "source": [
    "datos2 = [15, 21, 25, 32, 35, 45, 50, 50, 55, 60, 100]\n",
    "\n",
    "datos2 = pd.Series(datos2)\n",
    "\n",
    "funcion1(datos2)"
   ]
  },
  {
   "cell_type": "code",
   "execution_count": null,
   "metadata": {},
   "outputs": [],
   "source": [
    "# La media se ve muy afectada por valores extremos mientras que la mediana apenas cambia\n",
    "# La media tiene en cuenta el valor de todos los datos mientras que la mediana se enfoca en cómo están distribuidos"
   ]
  },
  {
   "cell_type": "markdown",
   "metadata": {},
   "source": [
    "\n",
    "#### Ejercicio 2: \n",
    "1. **Cálculo de la varianza y desviación estándar**: Usando los mismos datos de arriba, calcula la **varianza** y la **desviación estándar**.\n",
    "\n",
    "\n"
   ]
  },
  {
   "cell_type": "code",
   "execution_count": 27,
   "metadata": {},
   "outputs": [
    {
     "name": "stdout",
     "output_type": "stream",
     "text": [
      "La varianza es 237.29 y la desviación típica 15.4\n"
     ]
    }
   ],
   "source": [
    "print(f\"La varianza es {np.round(datos.var(), 2)} y la desviación típica {np.round(datos.std(), 2)}\")"
   ]
  },
  {
   "cell_type": "markdown",
   "metadata": {},
   "source": [
    "2. **Comparación de dispersión**: Dado otro conjunto de datos: `[18, 19, 20, 22, 24, 25, 27, 30]`, compara la **dispersión** de este grupo con el conjunto de datos anterior (del Ejercicio 1) calculando la **desviación estándar** de ambos. ¿Qué conjunto tiene mayor dispersión?"
   ]
  },
  {
   "cell_type": "code",
   "execution_count": null,
   "metadata": {},
   "outputs": [
    {
     "name": "stdout",
     "output_type": "stream",
     "text": [
      "La varianza es 17.27 y la desviación típica 4.16\n"
     ]
    }
   ],
   "source": [
    "datos2 = [18, 19, 20, 22, 24, 25, 27, 30]\n",
    "\n",
    "datos2 = pd.Series(datos2)\n",
    "\n",
    "print(f\"La varianza es {np.round(datos2.var(), 2)} y la desviación típica {np.round(datos2.std(), 2)}\")"
   ]
  },
  {
   "cell_type": "code",
   "execution_count": null,
   "metadata": {},
   "outputs": [],
   "source": [
    "# Estos datos están más próximos entre sí, más agrupados, por lo que tienen menor varianza y desviación"
   ]
  },
  {
   "cell_type": "markdown",
   "metadata": {},
   "source": [
    "#### Ejercicio 3:\n",
    "\n",
    "1. Usa la función correspondiente en Python para calcular la **asimetría** del conjunto de datos: `[10, 20, 20, 20, 25, 30, 35, 40]`. \n"
   ]
  },
  {
   "cell_type": "code",
   "execution_count": 29,
   "metadata": {},
   "outputs": [
    {
     "data": {
      "text/plain": [
       "0.1280077375904375"
      ]
     },
     "execution_count": 29,
     "metadata": {},
     "output_type": "execute_result"
    }
   ],
   "source": [
    "datos3 = [10, 20, 20, 20, 25, 30, 35, 40]\n",
    "stats.skew(datos3)"
   ]
  },
  {
   "cell_type": "markdown",
   "metadata": {},
   "source": [
    "2. Interpreta el resultado: ¿El conjunto es simétrico, sesgado a la izquierda o a la derecha?"
   ]
  },
  {
   "cell_type": "code",
   "execution_count": null,
   "metadata": {},
   "outputs": [],
   "source": [
    "# Vemos que la asimetría es positiva, por lo que los valores están sesgados a la derecha"
   ]
  },
  {
   "cell_type": "markdown",
   "metadata": {},
   "source": [
    "#### Ejercicio 4: \n",
    "\n",
    "1. Calcula la **curtosis** para el conjunto de datos: `[5, 5, 5, 20, 25, 30, 30, 50]`. "
   ]
  },
  {
   "cell_type": "code",
   "execution_count": null,
   "metadata": {},
   "outputs": [
    {
     "data": {
      "text/plain": [
       "-0.14514157171499864"
      ]
     },
     "execution_count": 41,
     "metadata": {},
     "output_type": "execute_result"
    }
   ],
   "source": [
    "datos4 = [5, 5, 5, 20, 25, 30, 30, 50]\n",
    "\n",
    "# Si corregimos sesgo obtenemos el mismo valor que con pandas\n",
    "stats.kurtosis(datos4, bias=False)"
   ]
  },
  {
   "cell_type": "code",
   "execution_count": 40,
   "metadata": {},
   "outputs": [
    {
     "data": {
      "text/plain": [
       "-0.14514157171499864"
      ]
     },
     "execution_count": 40,
     "metadata": {},
     "output_type": "execute_result"
    }
   ],
   "source": [
    "datos4 = [5, 5, 5, 20, 25, 30, 30, 50]\n",
    "\n",
    "datos4 = pd.Series(datos4)\n",
    "\n",
    "datos4.kurt()"
   ]
  },
  {
   "cell_type": "markdown",
   "metadata": {},
   "source": [
    "2. ¿El conjunto tiene una curtosis positiva, negativa o es mesocúrtico? Explica qué implica esto sobre la forma de la distribución."
   ]
  },
  {
   "cell_type": "code",
   "execution_count": null,
   "metadata": {},
   "outputs": [],
   "source": [
    "# La curtosis es negativa, por lo que la distribución es menos puntiaguda que una normal"
   ]
  },
  {
   "cell_type": "markdown",
   "metadata": {},
   "source": [
    "#### Ejercicio 5: Caso practico. \n",
    "\n",
    "\n",
    "Imagina que una empresa está evaluando el rendimiento de sus empleados para entender la relación entre el tiempo que dedican a su trabajo y el éxito que tienen en términos de ventas. La empresa recopila datos durante un mes, midiendo cuántas **horas trabajó** cada empleado y cuántas **ventas realizaron**. Estos datosa se encuentran en el archivo `rendimiento.csv`\n",
    "\n",
    "**Horas trabajadas**: \n",
    "   - Se midieron las horas trabajadas por un grupo de empleados. En general, la mayoría de los empleados trabajan entre 40 y 60 horas a la semana, con algunos empleados trabajando un poco menos o más.\n",
    "\n",
    "\n",
    "**Ventas realizadas**:\n",
    "   - A cada empleado también se le hizo un seguimiento de cuántas ventas realizó. Aunque las ventas están influenciadas por las horas trabajadas, hay cierta **variabilidad**: algunos empleados pueden ser más productivos y vender más en menos tiempo, mientras que otros necesitan trabajar más para alcanzar los mismos resultados.\n",
    "\n",
    "\n",
    "Resuelve los siguientes puntos:\n",
    "\n",
    "\n",
    "\n",
    "1. **Cálculo de la media, mediana y moda**:\n",
    "   - Calcula la **media**, **mediana** y **moda** de las columnas **Horas Trabajadas** y **Ventas Realizadas**.\n",
    "   - Explica qué información proporciona cada medida en este contexto. Justifica tus conclusiones con representación de graficas. \n"
   ]
  },
  {
   "cell_type": "code",
   "execution_count": 45,
   "metadata": {},
   "outputs": [
    {
     "data": {
      "text/html": [
       "<div>\n",
       "<style scoped>\n",
       "    .dataframe tbody tr th:only-of-type {\n",
       "        vertical-align: middle;\n",
       "    }\n",
       "\n",
       "    .dataframe tbody tr th {\n",
       "        vertical-align: top;\n",
       "    }\n",
       "\n",
       "    .dataframe thead th {\n",
       "        text-align: right;\n",
       "    }\n",
       "</style>\n",
       "<table border=\"1\" class=\"dataframe\">\n",
       "  <thead>\n",
       "    <tr style=\"text-align: right;\">\n",
       "      <th></th>\n",
       "      <th>ID</th>\n",
       "      <th>Horas Trabajadas</th>\n",
       "      <th>Ventas Realizadas</th>\n",
       "    </tr>\n",
       "  </thead>\n",
       "  <tbody>\n",
       "    <tr>\n",
       "      <th>0</th>\n",
       "      <td>1</td>\n",
       "      <td>54.967142</td>\n",
       "      <td>48.0</td>\n",
       "    </tr>\n",
       "    <tr>\n",
       "      <th>1</th>\n",
       "      <td>2</td>\n",
       "      <td>48.617357</td>\n",
       "      <td>47.0</td>\n",
       "    </tr>\n",
       "    <tr>\n",
       "      <th>2</th>\n",
       "      <td>3</td>\n",
       "      <td>56.476885</td>\n",
       "      <td>55.0</td>\n",
       "    </tr>\n",
       "    <tr>\n",
       "      <th>3</th>\n",
       "      <td>4</td>\n",
       "      <td>65.230299</td>\n",
       "      <td>61.0</td>\n",
       "    </tr>\n",
       "    <tr>\n",
       "      <th>4</th>\n",
       "      <td>5</td>\n",
       "      <td>47.658466</td>\n",
       "      <td>47.0</td>\n",
       "    </tr>\n",
       "  </tbody>\n",
       "</table>\n",
       "</div>"
      ],
      "text/plain": [
       "   ID  Horas Trabajadas  Ventas Realizadas\n",
       "0   1         54.967142               48.0\n",
       "1   2         48.617357               47.0\n",
       "2   3         56.476885               55.0\n",
       "3   4         65.230299               61.0\n",
       "4   5         47.658466               47.0"
      ]
     },
     "execution_count": 45,
     "metadata": {},
     "output_type": "execute_result"
    }
   ],
   "source": [
    "df = pd.read_csv('datos/rendimiento.csv')\n",
    "df.head()"
   ]
  },
  {
   "cell_type": "code",
   "execution_count": null,
   "metadata": {},
   "outputs": [
    {
     "data": {
      "text/plain": [
       "Horas Trabajadas     48.961535\n",
       "Ventas Realizadas    49.120000\n",
       "dtype: float64"
      ]
     },
     "execution_count": 47,
     "metadata": {},
     "output_type": "execute_result"
    }
   ],
   "source": [
    "# Media\n",
    "df[['Horas Trabajadas', 'Ventas Realizadas']].mean()"
   ]
  },
  {
   "cell_type": "code",
   "execution_count": 48,
   "metadata": {},
   "outputs": [
    {
     "data": {
      "text/plain": [
       "Horas Trabajadas     48.730437\n",
       "Ventas Realizadas    48.000000\n",
       "dtype: float64"
      ]
     },
     "execution_count": 48,
     "metadata": {},
     "output_type": "execute_result"
    }
   ],
   "source": [
    "# Mediana\n",
    "df[['Horas Trabajadas', 'Ventas Realizadas']].median()"
   ]
  },
  {
   "cell_type": "code",
   "execution_count": 60,
   "metadata": {},
   "outputs": [
    {
     "data": {
      "text/plain": [
       "Horas Trabajadas     23.802549\n",
       "Ventas Realizadas    47.000000\n",
       "Name: 0, dtype: float64"
      ]
     },
     "execution_count": 60,
     "metadata": {},
     "output_type": "execute_result"
    }
   ],
   "source": [
    "# Moda\n",
    "df[['Horas Trabajadas', 'Ventas Realizadas']].mode().iloc[0]"
   ]
  },
  {
   "cell_type": "markdown",
   "metadata": {},
   "source": [
    "\n",
    "2. **Comparación de medidas de centralización**:\n",
    "   - ¿Cómo se diferencian la media y la mediana para los datos de **Ventas Realizadas**? ¿Qué indica esta diferencia sobre la distribución de las ventas?\n"
   ]
  },
  {
   "cell_type": "code",
   "execution_count": null,
   "metadata": {},
   "outputs": [],
   "source": [
    "# Horas trabajadas tiene unos valores casi igualess de media y de mediana\n",
    "# Ventas realizadas tiene una media ligeramente superior a la mediana, lo cual sugiere la existencia de valores atípicos altos"
   ]
  },
  {
   "cell_type": "markdown",
   "metadata": {},
   "source": [
    "3. **Cálculo de la varianza y desviación estándar**:\n",
    "   - Calcula la **varianza** y la **desviación estándar** para las columnas **Horas Trabajadas** y **Ventas Realizadas**.\n",
    "   - ¿Qué conjunto de datos es más disperso? Explica el significado de la dispersión en este caso. Justifica tus conclusiones con representación de graficas. \n"
   ]
  },
  {
   "cell_type": "code",
   "execution_count": 61,
   "metadata": {},
   "outputs": [
    {
     "data": {
      "text/plain": [
       "Horas Trabajadas     82.476989\n",
       "Ventas Realizadas    93.056162\n",
       "dtype: float64"
      ]
     },
     "execution_count": 61,
     "metadata": {},
     "output_type": "execute_result"
    }
   ],
   "source": [
    "# Varianza\n",
    "df[['Horas Trabajadas', 'Ventas Realizadas']].var()"
   ]
  },
  {
   "cell_type": "code",
   "execution_count": 62,
   "metadata": {},
   "outputs": [
    {
     "data": {
      "text/plain": [
       "Horas Trabajadas     9.081684\n",
       "Ventas Realizadas    9.646562\n",
       "dtype: float64"
      ]
     },
     "execution_count": 62,
     "metadata": {},
     "output_type": "execute_result"
    }
   ],
   "source": [
    "# Desviación\n",
    "df[['Horas Trabajadas', 'Ventas Realizadas']].std()"
   ]
  },
  {
   "cell_type": "code",
   "execution_count": null,
   "metadata": {},
   "outputs": [
    {
     "data": {
      "image/png": "[encoded data removed]",
      "text/plain": [
       "<Figure size 640x480 with 1 Axes>"
      ]
     },
     "metadata": {},
     "output_type": "display_data"
    }
   ],
   "source": [
    "# Vemos que las ventas tienen valores ligeramente más dispersos\n",
    "# Hagamos los histogramas correspondientes\n",
    "plt.figure()\n",
    "sns.histplot(x = df['Horas Trabajadas'])\n",
    "\n",
    "plt.show()"
   ]
  },
  {
   "cell_type": "code",
   "execution_count": 66,
   "metadata": {},
   "outputs": [
    {
     "data": {
      "image/png": "[encoded data removed]",
      "text/plain": [
       "<Figure size 640x480 with 1 Axes>"
      ]
     },
     "metadata": {},
     "output_type": "display_data"
    }
   ],
   "source": [
    "plt.figure()\n",
    "sns.histplot(x = df['Ventas Realizadas'])\n",
    "\n",
    "plt.show()"
   ]
  },
  {
   "cell_type": "markdown",
   "metadata": {},
   "source": [
    "4. **Rango y rango intercuartílico**:\n",
    "   - Calcula el **rango** y el **rango intercuartílico** para ambas columnas. \n",
    "   - ¿Qué te dice esto sobre la variabilidad de los datos? Justifica tus conclusiones con representación de graficas. "
   ]
  },
  {
   "cell_type": "code",
   "execution_count": 70,
   "metadata": {},
   "outputs": [],
   "source": [
    "rango_horas = df['Horas Trabajadas'].max() - df['Horas Trabajadas'].min()\n",
    "rango_ventas = df['Ventas Realizadas'].max() - df['Ventas Realizadas'].min()\n",
    "\n",
    "iqr_horas = df['Horas Trabajadas'].quantile(0.75) - df['Horas Trabajadas'].quantile(0.25)\n",
    "iqr_ventas = df['Ventas Realizadas'].quantile(0.75) - df['Ventas Realizadas'].quantile(0.25)"
   ]
  },
  {
   "cell_type": "code",
   "execution_count": 71,
   "metadata": {},
   "outputs": [
    {
     "name": "stdout",
     "output_type": "stream",
     "text": [
      "Los rangos son 44.72 para horas y 50.0 para ventas. \n",
      "Los IQR son 10.07 para hora y 11.25 para ventas\n"
     ]
    }
   ],
   "source": [
    "print(f\"Los rangos son {np.round(rango_horas, 2)} para horas y {np.round(rango_ventas, 2)} para ventas. \\nLos IQR son {np.round(iqr_horas, 2)} para hora y {np.round(iqr_ventas, 2)} para ventas\")"
   ]
  },
  {
   "cell_type": "code",
   "execution_count": null,
   "metadata": {},
   "outputs": [],
   "source": [
    "# Vemos de nuevo que ventas tiene más dispersión"
   ]
  },
  {
   "cell_type": "markdown",
   "metadata": {},
   "source": [
    "5. **Cálculo de la asimetría**:\n",
    "   - Usa la función adecuada en Python para calcular la **asimetría** de los datos de **Horas Trabajadas** y **Ventas Realizadas**. \n",
    "   - Interpreta si el conjunto de datos es **simétrico**, **sesgado a la izquierda** o **sesgado a la derecha**."
   ]
  },
  {
   "cell_type": "code",
   "execution_count": 72,
   "metadata": {},
   "outputs": [
    {
     "data": {
      "text/plain": [
       "Horas Trabajadas    -0.177948\n",
       "Ventas Realizadas    0.184165\n",
       "dtype: float64"
      ]
     },
     "execution_count": 72,
     "metadata": {},
     "output_type": "execute_result"
    }
   ],
   "source": [
    "# Desviación\n",
    "df[['Horas Trabajadas', 'Ventas Realizadas']].skew()"
   ]
  },
  {
   "cell_type": "code",
   "execution_count": null,
   "metadata": {},
   "outputs": [],
   "source": [
    "# Al igual que se aprecia en los histogramas, cada variable tiene una ligera asimetría: \n",
    "# Horas hacia la izquierda y ventas a la derecha"
   ]
  },
  {
   "cell_type": "markdown",
   "metadata": {},
   "source": [
    "6. **Cálculo de la curtosis**:\n",
    "   - Calcula la **curtosis** para ambos conjuntos de datos. ¿Los conjuntos tienen una curtosis positiva, negativa o son mesocúrticos? \n",
    "   - Explica qué implica esto sobre la forma de la distribución."
   ]
  },
  {
   "cell_type": "code",
   "execution_count": 73,
   "metadata": {},
   "outputs": [
    {
     "data": {
      "text/plain": [
       "Horas Trabajadas    -0.100977\n",
       "Ventas Realizadas    0.076791\n",
       "dtype: float64"
      ]
     },
     "execution_count": 73,
     "metadata": {},
     "output_type": "execute_result"
    }
   ],
   "source": [
    "# Desviación\n",
    "df[['Horas Trabajadas', 'Ventas Realizadas']].kurt()"
   ]
  },
  {
   "cell_type": "code",
   "execution_count": null,
   "metadata": {},
   "outputs": [],
   "source": [
    "# La curtosis es ligeramente diferente a 0 em ambos casos\n",
    "# Para horas trabajadas es negativa, por lo que es más plana que una normal\n",
    "# Para ventas realizadas es positiva por lo que es más puntiaguda que una normal"
   ]
  },
  {
   "cell_type": "markdown",
   "metadata": {},
   "source": [
    "7. **Gráfico de dispersión**:\n",
    "   - Crea un **gráfico de dispersión** entre **Horas Trabajadas** y **Ventas Realizadas**. \n",
    "   - ¿Hay alguna correlación entre ambas variables? Explica cómo interpretar la relación entre las dos variables."
   ]
  },
  {
   "cell_type": "code",
   "execution_count": 75,
   "metadata": {},
   "outputs": [
    {
     "data": {
      "image/png": "[encoded data removed]",
      "text/plain": [
       "<Figure size 640x480 with 1 Axes>"
      ]
     },
     "metadata": {},
     "output_type": "display_data"
    }
   ],
   "source": [
    "plt.figure()\n",
    "\n",
    "sns.scatterplot(x = df['Horas Trabajadas'], y = df['Ventas Realizadas'])\n",
    "\n",
    "plt.title(\"Gráfico de dispersión entre horas trabajadas y ventas realizadas\")\n",
    "plt.show()"
   ]
  },
  {
   "cell_type": "code",
   "execution_count": 77,
   "metadata": {},
   "outputs": [
    {
     "data": {
      "text/html": [
       "<div>\n",
       "<style scoped>\n",
       "    .dataframe tbody tr th:only-of-type {\n",
       "        vertical-align: middle;\n",
       "    }\n",
       "\n",
       "    .dataframe tbody tr th {\n",
       "        vertical-align: top;\n",
       "    }\n",
       "\n",
       "    .dataframe thead th {\n",
       "        text-align: right;\n",
       "    }\n",
       "</style>\n",
       "<table border=\"1\" class=\"dataframe\">\n",
       "  <thead>\n",
       "    <tr style=\"text-align: right;\">\n",
       "      <th></th>\n",
       "      <th>Horas Trabajadas</th>\n",
       "      <th>Ventas Realizadas</th>\n",
       "    </tr>\n",
       "  </thead>\n",
       "  <tbody>\n",
       "    <tr>\n",
       "      <th>Horas Trabajadas</th>\n",
       "      <td>1.000000</td>\n",
       "      <td>0.870607</td>\n",
       "    </tr>\n",
       "    <tr>\n",
       "      <th>Ventas Realizadas</th>\n",
       "      <td>0.870607</td>\n",
       "      <td>1.000000</td>\n",
       "    </tr>\n",
       "  </tbody>\n",
       "</table>\n",
       "</div>"
      ],
      "text/plain": [
       "                   Horas Trabajadas  Ventas Realizadas\n",
       "Horas Trabajadas           1.000000           0.870607\n",
       "Ventas Realizadas          0.870607           1.000000"
      ]
     },
     "execution_count": 77,
     "metadata": {},
     "output_type": "execute_result"
    }
   ],
   "source": [
    "# Parece haber una clara correlación positiva entre ambas variables\n",
    "\n",
    "df[['Horas Trabajadas', 'Ventas Realizadas']].corr(method = \"pearson\")"
   ]
  },
  {
   "cell_type": "code",
   "execution_count": null,
   "metadata": {},
   "outputs": [],
   "source": [
    "# Vemos que el coeficiente de correlación de Pearson es de 0.87, por lo que la correlación es fuerte"
   ]
  },
  {
   "cell_type": "markdown",
   "metadata": {},
   "source": [
    "8. **Análisis exploratorio completo**:\n",
    "   - Realiza un análisis exploratorio detallado de los datos, incluyendo todas las medidas calculadas en los ejercicios anteriores. Presenta los resultados en forma de un informe claro y visual con gráficos y tablas que resuman las características clave de los datos.\n",
    "\n",
    "\n"
   ]
  },
  {
   "cell_type": "code",
   "execution_count": 78,
   "metadata": {},
   "outputs": [
    {
     "name": "stdout",
     "output_type": "stream",
     "text": [
      "<class 'pandas.core.frame.DataFrame'>\n",
      "RangeIndex: 100 entries, 0 to 99\n",
      "Data columns (total 3 columns):\n",
      " #   Column             Non-Null Count  Dtype  \n",
      "---  ------             --------------  -----  \n",
      " 0   ID                 100 non-null    int64  \n",
      " 1   Horas Trabajadas   100 non-null    float64\n",
      " 2   Ventas Realizadas  100 non-null    float64\n",
      "dtypes: float64(2), int64(1)\n",
      "memory usage: 2.5 KB\n"
     ]
    }
   ],
   "source": [
    "df.info()"
   ]
  },
  {
   "cell_type": "code",
   "execution_count": null,
   "metadata": {},
   "outputs": [],
   "source": [
    "# Vemos que tenemos un DataFrame con un identificador y valores numéricos de horas trabajadas y ventas realizadas. \n",
    "# No hay valores nulos"
   ]
  },
  {
   "cell_type": "code",
   "execution_count": null,
   "metadata": {},
   "outputs": [
    {
     "data": {
      "text/plain": [
       "array([False])"
      ]
     },
     "execution_count": 90,
     "metadata": {},
     "output_type": "execute_result"
    }
   ],
   "source": [
    "# NO hay IDs duplicados\n",
    "df['ID'].duplicated().unique()"
   ]
  },
  {
   "cell_type": "code",
   "execution_count": null,
   "metadata": {},
   "outputs": [
    {
     "data": {
      "text/html": [
       "<div>\n",
       "<style scoped>\n",
       "    .dataframe tbody tr th:only-of-type {\n",
       "        vertical-align: middle;\n",
       "    }\n",
       "\n",
       "    .dataframe tbody tr th {\n",
       "        vertical-align: top;\n",
       "    }\n",
       "\n",
       "    .dataframe thead th {\n",
       "        text-align: right;\n",
       "    }\n",
       "</style>\n",
       "<table border=\"1\" class=\"dataframe\">\n",
       "  <thead>\n",
       "    <tr style=\"text-align: right;\">\n",
       "      <th></th>\n",
       "      <th>ID</th>\n",
       "      <th>Horas Trabajadas</th>\n",
       "      <th>Ventas Realizadas</th>\n",
       "    </tr>\n",
       "  </thead>\n",
       "  <tbody>\n",
       "    <tr>\n",
       "      <th>count</th>\n",
       "      <td>100.000000</td>\n",
       "      <td>100.000000</td>\n",
       "      <td>100.000000</td>\n",
       "    </tr>\n",
       "    <tr>\n",
       "      <th>mean</th>\n",
       "      <td>50.500000</td>\n",
       "      <td>48.961535</td>\n",
       "      <td>49.120000</td>\n",
       "    </tr>\n",
       "    <tr>\n",
       "      <th>std</th>\n",
       "      <td>29.011492</td>\n",
       "      <td>9.081684</td>\n",
       "      <td>9.646562</td>\n",
       "    </tr>\n",
       "    <tr>\n",
       "      <th>min</th>\n",
       "      <td>1.000000</td>\n",
       "      <td>23.802549</td>\n",
       "      <td>25.000000</td>\n",
       "    </tr>\n",
       "    <tr>\n",
       "      <th>25%</th>\n",
       "      <td>25.750000</td>\n",
       "      <td>43.990943</td>\n",
       "      <td>43.000000</td>\n",
       "    </tr>\n",
       "    <tr>\n",
       "      <th>50%</th>\n",
       "      <td>50.500000</td>\n",
       "      <td>48.730437</td>\n",
       "      <td>48.000000</td>\n",
       "    </tr>\n",
       "    <tr>\n",
       "      <th>75%</th>\n",
       "      <td>75.250000</td>\n",
       "      <td>54.059521</td>\n",
       "      <td>54.250000</td>\n",
       "    </tr>\n",
       "    <tr>\n",
       "      <th>max</th>\n",
       "      <td>100.000000</td>\n",
       "      <td>68.522782</td>\n",
       "      <td>75.000000</td>\n",
       "    </tr>\n",
       "  </tbody>\n",
       "</table>\n",
       "</div>"
      ],
      "text/plain": [
       "               ID  Horas Trabajadas  Ventas Realizadas\n",
       "count  100.000000        100.000000         100.000000\n",
       "mean    50.500000         48.961535          49.120000\n",
       "std     29.011492          9.081684           9.646562\n",
       "min      1.000000         23.802549          25.000000\n",
       "25%     25.750000         43.990943          43.000000\n",
       "50%     50.500000         48.730437          48.000000\n",
       "75%     75.250000         54.059521          54.250000\n",
       "max    100.000000         68.522782          75.000000"
      ]
     },
     "execution_count": 91,
     "metadata": {},
     "output_type": "execute_result"
    }
   ],
   "source": [
    "# Podemos calcular las medidas estadísiticas clave\n",
    "df.describe()"
   ]
  },
  {
   "cell_type": "code",
   "execution_count": null,
   "metadata": {},
   "outputs": [],
   "source": [
    "# El promedio de horas trabajadas y de ventas realizadas es similar.\n",
    "# La media y la mediana difieren muy poco, aunque ligeramente más en el caso de las ventas"
   ]
  },
  {
   "cell_type": "code",
   "execution_count": 93,
   "metadata": {},
   "outputs": [
    {
     "data": {
      "text/plain": [
       "Horas Trabajadas     4896.153483\n",
       "Ventas Realizadas    4912.000000\n",
       "dtype: float64"
      ]
     },
     "execution_count": 93,
     "metadata": {},
     "output_type": "execute_result"
    }
   ],
   "source": [
    "df[['Horas Trabajadas', 'Ventas Realizadas']].sum()"
   ]
  },
  {
   "cell_type": "code",
   "execution_count": 102,
   "metadata": {},
   "outputs": [
    {
     "data": {
      "text/plain": [
       "1.0032365238243428"
      ]
     },
     "execution_count": 102,
     "metadata": {},
     "output_type": "execute_result"
    }
   ],
   "source": [
    "df[['Ventas Realizadas']].sum().iloc[0] / df[['Horas Trabajadas']].sum().iloc[0]"
   ]
  },
  {
   "cell_type": "code",
   "execution_count": null,
   "metadata": {},
   "outputs": [],
   "source": [
    "# Vemos que el total de ventas y horas es muy similar, con un promedio de prácticamente 1 venta por cada hora trabajada"
   ]
  },
  {
   "cell_type": "code",
   "execution_count": 108,
   "metadata": {},
   "outputs": [
    {
     "data": {
      "image/png": "[encoded data removed]",
      "text/plain": [
       "<Figure size 1200x500 with 2 Axes>"
      ]
     },
     "metadata": {},
     "output_type": "display_data"
    }
   ],
   "source": [
    "fig, axs = plt.subplots(1, 2, figsize=(12, 5))\n",
    "\n",
    "axs[0].hist(df['Horas Trabajadas'], edgecolor = 'black')\n",
    "axs[0].set_title('Horas trabajadas')\n",
    "axs[0].set_xlabel('Número de horas')\n",
    "axs[0].set_ylabel('Frecuencia')\n",
    "\n",
    "axs[1].hist(df['Ventas Realizadas'], edgecolor = 'black')\n",
    "axs[1].set_title('Ventas realizadas')\n",
    "axs[1].set_xlabel('Número de ventas')\n",
    "axs[1].set_ylabel('Frecuencia')\n",
    "\n",
    "plt.tight_layout()\n",
    "plt.show()"
   ]
  },
  {
   "cell_type": "code",
   "execution_count": 109,
   "metadata": {},
   "outputs": [
    {
     "data": {
      "text/plain": [
       "Horas Trabajadas    -0.177948\n",
       "Ventas Realizadas    0.184165\n",
       "dtype: float64"
      ]
     },
     "execution_count": 109,
     "metadata": {},
     "output_type": "execute_result"
    }
   ],
   "source": [
    "# Podemos ver la distribución de horas y ventas. Ambas presentan una ligera asimetría hacia lados contrarios\n",
    "# Comprobémoslo numéricamente\n",
    "df[['Horas Trabajadas', 'Ventas Realizadas']].skew()"
   ]
  },
  {
   "cell_type": "code",
   "execution_count": null,
   "metadata": {},
   "outputs": [],
   "source": [
    "# Efectivamente la distribución de horas está sesgada ligeramente a la izquierda mientras que la de ventas lo está a la derecha"
   ]
  },
  {
   "cell_type": "code",
   "execution_count": 110,
   "metadata": {},
   "outputs": [
    {
     "data": {
      "text/html": [
       "<div>\n",
       "<style scoped>\n",
       "    .dataframe tbody tr th:only-of-type {\n",
       "        vertical-align: middle;\n",
       "    }\n",
       "\n",
       "    .dataframe tbody tr th {\n",
       "        vertical-align: top;\n",
       "    }\n",
       "\n",
       "    .dataframe thead th {\n",
       "        text-align: right;\n",
       "    }\n",
       "</style>\n",
       "<table border=\"1\" class=\"dataframe\">\n",
       "  <thead>\n",
       "    <tr style=\"text-align: right;\">\n",
       "      <th></th>\n",
       "      <th>Horas Trabajadas</th>\n",
       "      <th>Ventas Realizadas</th>\n",
       "    </tr>\n",
       "  </thead>\n",
       "  <tbody>\n",
       "    <tr>\n",
       "      <th>Horas Trabajadas</th>\n",
       "      <td>1.000000</td>\n",
       "      <td>0.870607</td>\n",
       "    </tr>\n",
       "    <tr>\n",
       "      <th>Ventas Realizadas</th>\n",
       "      <td>0.870607</td>\n",
       "      <td>1.000000</td>\n",
       "    </tr>\n",
       "  </tbody>\n",
       "</table>\n",
       "</div>"
      ],
      "text/plain": [
       "                   Horas Trabajadas  Ventas Realizadas\n",
       "Horas Trabajadas           1.000000           0.870607\n",
       "Ventas Realizadas          0.870607           1.000000"
      ]
     },
     "execution_count": 110,
     "metadata": {},
     "output_type": "execute_result"
    }
   ],
   "source": [
    "# Veamos la correlación entre ambos valores\n",
    "df[['Horas Trabajadas', 'Ventas Realizadas']].corr(method = \"pearson\")"
   ]
  },
  {
   "cell_type": "code",
   "execution_count": 111,
   "metadata": {},
   "outputs": [
    {
     "data": {
      "image/png": "[encoded data removed]",
      "text/plain": [
       "<Figure size 640x480 with 1 Axes>"
      ]
     },
     "metadata": {},
     "output_type": "display_data"
    }
   ],
   "source": [
    "# Vemos que el coeficiente de correlación de Pearson es de 0.87, por lo que la correlación es fuerte y positiva\n",
    "# Hagamos un gráfico de dispersión para verlo mejor\n",
    "\n",
    "plt.figure()\n",
    "\n",
    "sns.scatterplot(x = df['Horas Trabajadas'], y = df['Ventas Realizadas'])\n",
    "\n",
    "plt.title(\"Gráfico de dispersión entre horas trabajadas y ventas realizadas\")\n",
    "plt.show()"
   ]
  },
  {
   "cell_type": "code",
   "execution_count": null,
   "metadata": {},
   "outputs": [],
   "source": [
    "# Efectivamente hay una relación entre ambas variables. No hay ningún valor que parezca estar lejos de esta tendencia."
   ]
  }
 ],
 "metadata": {
  "kernelspec": {
   "display_name": "proyecto6",
   "language": "python",
   "name": "python3"
  },
  "language_info": {
   "codemirror_mode": {
    "name": "ipython",
    "version": 3
   },
   "file_extension": ".py",
   "mimetype": "text/x-python",
   "name": "python",
   "nbconvert_exporter": "python",
   "pygments_lexer": "ipython3",
   "version": "3.12.7"
  }
 },
 "nbformat": 4,
 "nbformat_minor": 2
}
